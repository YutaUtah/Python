{
 "cells": [
  {
   "cell_type": "code",
   "execution_count": 25,
   "metadata": {},
   "outputs": [],
   "source": [
    "\n",
    "from selenium import webdriver\n",
    "from selenium.webdriver.common.keys import Keys\n",
    "import urllib.parse\n",
    "import time    \n",
    "import chromedriver_binary  "
   ]
  },
  {
   "cell_type": "code",
   "execution_count": 80,
   "metadata": {},
   "outputs": [],
   "source": [
    "\n",
    "#URL\n",
    "MAIN_URL = \"https://www.instagram.com/\"\n",
    "TAG_SEARCH_URL = MAIN_URL + \"explore/tags/\"\n",
    "\n",
    "#selectors\n",
    "LOGIN_PATH = '//*[@id=\"react-root\"]/section/main/article/div[2]/div[2]/p/a'\n",
    "LIKE_PATH = \"//button/span[@class='glyphsSpriteHeart__outline__24__grey_9 u-__7']\"\n",
    "LIKE_BUTTON_PATH = \"//button[@class='dCJp8 afkep']\"\n",
    "MEDIA_SELECTOR = 'div._9AhH0' \n",
    "NEXT_PAGE_SELECTOR = 'a.coreSpriteRightPaginationArrow' \n",
    "\n",
    "#USER INFO\n",
    "username = \"yutasoutherncross\"\n",
    "password = \"Southerncross2017!\"\n",
    "#params\n",
    "tagName = \"jackrussell\"\n",
    "likedCounter = 0\n",
    "likedMax = 500\n",
    "likeXpath = '/html/body/div[3]/div/div[2]/div/article/div[2]/section[1]/a[1]'"
   ]
  },
  {
   "cell_type": "code",
   "execution_count": 78,
   "metadata": {},
   "outputs": [
    {
     "name": "stdout",
     "output_type": "stream",
     "text": [
      "liked 48\n",
      "liked 49\n",
      "liked 50\n",
      "liked 51\n",
      "liked 52\n",
      "liked 53\n",
      "liked 54\n",
      "pass\n",
      "You liked 54 media\n"
     ]
    }
   ],
   "source": [
    "browser = webdriver.Chrome()\n",
    "browser.get(MAIN_URL)\n",
    "time.sleep(3)\n",
    "browser.find_element_by_xpath(LOGIN_PATH).click()\n",
    "time.sleep(3)\n",
    "usernameField = browser.find_element_by_name('username')\n",
    "usernameField.send_keys(username)\n",
    "passwordField = browser.find_element_by_name('password')\n",
    "passwordField.send_keys(password)\n",
    "passwordField.send_keys(Keys.RETURN)\n",
    "\n",
    "#tag search\n",
    "time.sleep(3)\n",
    "encodedTag = urllib.parse.quote(tagName) \n",
    "encodedURL = TAG_SEARCH_URL.format(encodedTag)\n",
    "browser.get('https://www.instagram.com/explore/tags/hippopotamus')\n",
    "\n",
    "time.sleep(3)\n",
    "browser.implicitly_wait(10)\n",
    "browser.find_element_by_css_selector(MEDIA_SELECTOR).click()\n",
    "#above is the execution until picture click******************\n",
    "\n",
    "time.sleep(5)\n",
    "\n",
    "while likedCounter < likedMax:\n",
    "        time.sleep(3)\n",
    "        try:\n",
    "            browser.find_element_by_xpath(LIKE_PATH)\n",
    "            browser.find_element_by_xpath(LIKE_BUTTON_PATH).click()\n",
    "            likedCounter += 1\n",
    "            print(\"liked {}\".format(likedCounter))\n",
    "        except:\n",
    "            print(\"pass\")\n",
    "            pass\n",
    "\n",
    "        #next\n",
    "        try:\n",
    "            browser.find_element_by_css_selector(NEXT_PAGE_SELECTOR).click()\n",
    "        except:\n",
    "            break\n",
    "\n",
    "print(\"You liked {} media\".format(likedCounter))"
   ]
  },
  {
   "cell_type": "code",
   "execution_count": null,
   "metadata": {},
   "outputs": [],
   "source": []
  },
  {
   "cell_type": "code",
   "execution_count": null,
   "metadata": {},
   "outputs": [],
   "source": []
  },
  {
   "cell_type": "code",
   "execution_count": null,
   "metadata": {},
   "outputs": [],
   "source": []
  }
 ],
 "metadata": {
  "kernelspec": {
   "display_name": "Python 3",
   "language": "python",
   "name": "python3"
  },
  "language_info": {
   "codemirror_mode": {
    "name": "ipython",
    "version": 3
   },
   "file_extension": ".py",
   "mimetype": "text/x-python",
   "name": "python",
   "nbconvert_exporter": "python",
   "pygments_lexer": "ipython3",
   "version": "3.7.3"
  }
 },
 "nbformat": 4,
 "nbformat_minor": 2
}
