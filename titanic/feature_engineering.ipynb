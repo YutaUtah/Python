{
 "cells": [
  {
   "cell_type": "markdown",
   "metadata": {},
   "source": [
    "# Feature Engineering and Data Processing "
   ]
  },
  {
   "cell_type": "markdown",
   "metadata": {},
   "source": [
    "##### we have created the following columns\n",
    "\n",
    "- family_size\n",
    "- age_band\n",
    "- is_small_family\n",
    "- is_large_family\n",
    "- Fare_cat\n",
    "- ticket_len\n",
    "- ticket_letter\n",
    "- cabin_letter\n",
    "\n",
    "#### we have imputed the following columns \n",
    "\n",
    "- Cabin\n",
    "- Embarked"
   ]
  },
  {
   "cell_type": "code",
   "execution_count": 2,
   "metadata": {},
   "outputs": [],
   "source": [
    "# import packages\n",
    "\n",
    "import pandas as pd \n",
    "import numpy as np\n",
    "import matplotlib.pyplot as plt\n",
    "import seaborn as sns\n",
    "\n",
    "%matplotlib inline \n",
    "sns.set()"
   ]
  },
  {
   "cell_type": "code",
   "execution_count": 24,
   "metadata": {},
   "outputs": [],
   "source": [
    "train = pd.read_csv(\"./data/train.csv\")\n",
    "test = pd.read_csv(\"./data/test.csv\")"
   ]
  },
  {
   "cell_type": "code",
   "execution_count": 25,
   "metadata": {},
   "outputs": [
    {
     "name": "stdout",
     "output_type": "stream",
     "text": [
      "(891, 12)\n",
      "(418, 11)\n"
     ]
    }
   ],
   "source": [
    "print(train.shape)\n",
    "print(test.shape)"
   ]
  },
  {
   "cell_type": "markdown",
   "metadata": {},
   "source": [
    "### create family_size and is_alone column\n",
    "\n",
    "- sibsp + parch + themselves"
   ]
  },
  {
   "cell_type": "code",
   "execution_count": 26,
   "metadata": {},
   "outputs": [],
   "source": [
    "train['family_size'] = train['SibSp'] + train['Parch'] + 1\n",
    "test['family_size'] = test['SibSp'] + test['Parch'] + 1\n",
    "\n",
    "for data in [train, test]:\n",
    "    data['is_alone'] =0\n",
    "    data.loc[(data['family_size'] == 1), 'is_alone'] = 1"
   ]
  },
  {
   "cell_type": "code",
   "execution_count": 31,
   "metadata": {},
   "outputs": [],
   "source": [
    "# create age_band, missing age data is fallen in age_band == 0\n",
    "for data in [train, test]:\n",
    "    data['age_band'] =0\n",
    "    data.loc[data['Age'] <= 16,'age_band'] = 0\n",
    "    data.loc[(data['Age'] > 16) & (data['Age'] <= 32), 'age_band'] = 1\n",
    "    data.loc[(data['Age'] > 32) & (data['Age'] <= 48), 'age_band'] = 2\n",
    "    data.loc[(data['Age'] > 48) & (data['Age'] <= 64), 'age_band'] = 3\n",
    "    data.loc[(data['Age'] > 64), 'age_band'] = 3"
   ]
  },
  {
   "cell_type": "code",
   "execution_count": 34,
   "metadata": {},
   "outputs": [
    {
     "data": {
      "image/png": "[encoded data removed]",
      "text/plain": [
       "<Figure size 720x360 with 2 Axes>"
      ]
     },
     "metadata": {
      "needs_background": "light"
     },
     "output_type": "display_data"
    }
   ],
   "source": [
    "sns.catplot(x='age_band',y='Survived',data=train,col='Sex', kind=\"bar\", palette=\"Set2\")\n",
    "plt.show()"
   ]
  },
  {
   "cell_type": "code",
   "execution_count": 45,
   "metadata": {},
   "outputs": [],
   "source": [
    "# create is_small_family and is_large_family variables\n",
    "\n",
    "for data in [train, test]:\n",
    "    data['is_small_family'] = data['family_size'].map(lambda s: 1 if 2 <= s <= 4 else 0)\n",
    "    data['is_large_family'] = data['family_size'].map(lambda s: 1 if 5 <= s else 0)"
   ]
  },
  {
   "cell_type": "code",
   "execution_count": 50,
   "metadata": {},
   "outputs": [],
   "source": [
    "# create fare_category\n",
    "for data in [train, test]:\n",
    "    data['Fare_cat']=0\n",
    "    data.loc[data['Fare'] <= 7.91,'Fare_cat'] = 0\n",
    "    data.loc[(data['Fare']>7.91) & (data['Fare'] <= 14.454),'Fare_cat'] = 1\n",
    "    data.loc[(data['Fare'] > 14.454) & (data['Fare'] <= 31),'Fare_cat'] = 2\n",
    "    data.loc[(data['Fare'] > 31) & (data['Fare'] <= 513),'Fare_cat'] = 3"
   ]
  },
  {
   "cell_type": "code",
   "execution_count": 63,
   "metadata": {},
   "outputs": [],
   "source": [
    "# create ticket_length and ticket_first_letter\n",
    "for data in [train, test]:\n",
    "    data['ticket_len'] = data['Ticket'].apply(len)  \n",
    "    data['ticket_letter'] = data['Ticket'].str[0]"
   ]
  },
  {
   "cell_type": "code",
   "execution_count": 68,
   "metadata": {},
   "outputs": [
    {
     "data": {
      "text/html": [
       "<div>\n",
       "<style scoped>\n",
       "    .dataframe tbody tr th:only-of-type {\n",
       "        vertical-align: middle;\n",
       "    }\n",
       "\n",
       "    .dataframe tbody tr th {\n",
       "        vertical-align: top;\n",
       "    }\n",
       "\n",
       "    .dataframe thead th {\n",
       "        text-align: right;\n",
       "    }\n",
       "</style>\n",
       "<table border=\"1\" class=\"dataframe\">\n",
       "  <thead>\n",
       "    <tr style=\"text-align: right;\">\n",
       "      <th></th>\n",
       "      <th>ticket_len</th>\n",
       "      <th>Survived</th>\n",
       "    </tr>\n",
       "  </thead>\n",
       "  <tbody>\n",
       "    <tr>\n",
       "      <td>2</td>\n",
       "      <td>5</td>\n",
       "      <td>0.618321</td>\n",
       "    </tr>\n",
       "    <tr>\n",
       "      <td>5</td>\n",
       "      <td>8</td>\n",
       "      <td>0.539474</td>\n",
       "    </tr>\n",
       "    <tr>\n",
       "      <td>13</td>\n",
       "      <td>17</td>\n",
       "      <td>0.428571</td>\n",
       "    </tr>\n",
       "    <tr>\n",
       "      <td>9</td>\n",
       "      <td>12</td>\n",
       "      <td>0.400000</td>\n",
       "    </tr>\n",
       "    <tr>\n",
       "      <td>10</td>\n",
       "      <td>13</td>\n",
       "      <td>0.400000</td>\n",
       "    </tr>\n",
       "    <tr>\n",
       "      <td>1</td>\n",
       "      <td>4</td>\n",
       "      <td>0.366337</td>\n",
       "    </tr>\n",
       "    <tr>\n",
       "      <td>7</td>\n",
       "      <td>10</td>\n",
       "      <td>0.341463</td>\n",
       "    </tr>\n",
       "    <tr>\n",
       "      <td>11</td>\n",
       "      <td>15</td>\n",
       "      <td>0.333333</td>\n",
       "    </tr>\n",
       "    <tr>\n",
       "      <td>3</td>\n",
       "      <td>6</td>\n",
       "      <td>0.319809</td>\n",
       "    </tr>\n",
       "    <tr>\n",
       "      <td>4</td>\n",
       "      <td>7</td>\n",
       "      <td>0.296296</td>\n",
       "    </tr>\n",
       "    <tr>\n",
       "      <td>12</td>\n",
       "      <td>16</td>\n",
       "      <td>0.272727</td>\n",
       "    </tr>\n",
       "    <tr>\n",
       "      <td>8</td>\n",
       "      <td>11</td>\n",
       "      <td>0.250000</td>\n",
       "    </tr>\n",
       "    <tr>\n",
       "      <td>6</td>\n",
       "      <td>9</td>\n",
       "      <td>0.192308</td>\n",
       "    </tr>\n",
       "    <tr>\n",
       "      <td>0</td>\n",
       "      <td>3</td>\n",
       "      <td>0.000000</td>\n",
       "    </tr>\n",
       "    <tr>\n",
       "      <td>14</td>\n",
       "      <td>18</td>\n",
       "      <td>0.000000</td>\n",
       "    </tr>\n",
       "  </tbody>\n",
       "</table>\n",
       "</div>"
      ],
      "text/plain": [
       "    ticket_len  Survived\n",
       "2            5  0.618321\n",
       "5            8  0.539474\n",
       "13          17  0.428571\n",
       "9           12  0.400000\n",
       "10          13  0.400000\n",
       "1            4  0.366337\n",
       "7           10  0.341463\n",
       "11          15  0.333333\n",
       "3            6  0.319809\n",
       "4            7  0.296296\n",
       "12          16  0.272727\n",
       "8           11  0.250000\n",
       "6            9  0.192308\n",
       "0            3  0.000000\n",
       "14          18  0.000000"
      ]
     },
     "execution_count": 68,
     "metadata": {},
     "output_type": "execute_result"
    }
   ],
   "source": [
    "# create the chart of ticket relation\n",
    "ticket_len = train[['ticket_len', 'Survived']].groupby(['ticket_len'], as_index=False).mean().sort_values(by='Survived', ascending=False)\n",
    "ticket_letter = train[['ticket_letter', 'Survived']].groupby(['ticket_letter'], as_index=False).mean().sort_values(by='Survived', ascending=False)\n",
    "ticket_len"
   ]
  },
  {
   "cell_type": "code",
   "execution_count": 70,
   "metadata": {},
   "outputs": [
    {
     "data": {
      "text/plain": [
       "<seaborn.axisgrid.FacetGrid at 0x1a1a329190>"
      ]
     },
     "execution_count": 70,
     "metadata": {},
     "output_type": "execute_result"
    },
    {
     "data": {
      "image/png": "[encoded data removed]",
      "text/plain": [
       "<Figure size 360x360 with 1 Axes>"
      ]
     },
     "metadata": {
      "needs_background": "light"
     },
     "output_type": "display_data"
    },
    {
     "data": {
      "image/png": "[encoded data removed]",
      "text/plain": [
       "<Figure size 360x360 with 1 Axes>"
      ]
     },
     "metadata": {
      "needs_background": "light"
     },
     "output_type": "display_data"
    }
   ],
   "source": [
    "sns.catplot(x='ticket_len', y=\"Survived\", data=train , kind=\"bar\", order=ticket_len['ticket_len'])\n",
    "sns.catplot(x='ticket_letter', y=\"Survived\", data=train, kind=\"bar\", order=ticket_letter['ticket_letter'])"
   ]
  },
  {
   "cell_type": "code",
   "execution_count": 75,
   "metadata": {},
   "outputs": [
    {
     "name": "stdout",
     "output_type": "stream",
     "text": [
      "3    429\n",
      "2    278\n",
      "1    210\n",
      "P     98\n",
      "S     98\n",
      "C     77\n",
      "A     42\n",
      "W     19\n",
      "7     13\n",
      "F     13\n",
      "4     11\n",
      "6      9\n",
      "L      5\n",
      "5      3\n",
      "9      2\n",
      "8      2\n",
      "Name: ticket_letter, dtype: int64\n"
     ]
    }
   ],
   "source": [
    "all_df = pd.concat([train, test],sort = True)\n",
    "#Displaying values counts\n",
    "print(all_df['ticket_letter'].value_counts())"
   ]
  },
  {
   "cell_type": "markdown",
   "metadata": {},
   "source": [
    "regarding W, 7, F, 4, 6, L, 5, 9, 8 they are rare letters, so we pass the label rare"
   ]
  },
  {
   "cell_type": "code",
   "execution_count": 76,
   "metadata": {},
   "outputs": [],
   "source": [
    "# replace the entries Rare_Low_Survival and Rare_high_Survival\n",
    "for data in [train, test]:\n",
    "    data['ticket_letter'] = data['ticket_letter'].replace(['W', '4', '7', '6', 'L', '5', '8'], 'Rare_Low_Survival')\n",
    "    data['ticket_letter'] = data['ticket_letter'].replace(['F', '9'], 'Rare_High_Survival')"
   ]
  },
  {
   "cell_type": "code",
   "execution_count": 83,
   "metadata": {},
   "outputs": [],
   "source": [
    "# impute NO to missing data and add cabin_letter column \n",
    "\n",
    "for data in [train, test]:\n",
    "  #Filling missing values\n",
    "  data['Cabin'] = data['Cabin'].fillna('N0')\n",
    "  #Getting the first letter of the column\n",
    "  data['cabin_letter'] = data['Cabin'].str[0]\n",
    "\n",
    "# we not have T at test data so we replace it \n",
    "train['cabin_letter'] = train['cabin_letter'].replace(['T'], 'N')"
   ]
  },
  {
   "cell_type": "code",
   "execution_count": 88,
   "metadata": {},
   "outputs": [],
   "source": [
    "# impute Embarked \n",
    "train['Embarked'] = train['Embarked'].fillna(train['Embarked'].mode().iloc[0])\n",
    "test['Embarked'] = test['Embarked'].fillna(test['Embarked'].mode().iloc[0])"
   ]
  },
  {
   "cell_type": "markdown",
   "metadata": {},
   "source": [
    "# encoding / drop the columns\n",
    "- what is the best encoding in this dataset? / encode all categorical variables thats stored as integers\n",
    "- which columns contribute to survival percentage"
   ]
  },
  {
   "cell_type": "code",
   "execution_count": 90,
   "metadata": {},
   "outputs": [],
   "source": [
    "#removing all columns that we don't need\n",
    "train.drop(['PassengerId','Name','Ticket', 'Cabin','Fare','Age','SibSp','Parch'],axis=1,inplace=True)\n",
    "test.drop(['PassengerId','Name','Ticket', 'Cabin','Fare','Age','SibSp','Parch'],axis=1,inplace=True)"
   ]
  },
  {
   "cell_type": "code",
   "execution_count": 101,
   "metadata": {},
   "outputs": [],
   "source": [
    "\n",
    "#handling categorical variables\n",
    "train = pd.get_dummies(train, columns=['Sex','Embarked', 'Pclass','ticket_letter','cabin_letter', 'Fare_cat','is_small_family','is_large_family'], drop_first=True)\n",
    "test = pd.get_dummies(test, columns=['Sex','Embarked', 'Pclass','ticket_letter','cabin_letter', 'Fare_cat','is_small_family','is_large_family'], drop_first=True)\n"
   ]
  },
  {
   "cell_type": "markdown",
   "metadata": {},
   "source": [
    "# standardization \n",
    "- standardize the data with train data frame and apply it to both tran and test data"
   ]
  },
  {
   "cell_type": "code",
   "execution_count": 102,
   "metadata": {},
   "outputs": [],
   "source": [
    "from sklearn.preprocessing import StandardScaler\n",
    "scaler = StandardScaler()\n",
    "\n",
    "# drop response variable and fit\n",
    "scaler.fit(train.drop(['Survived'],axis=1))\n",
    "\n",
    "# transform train\n",
    "scaled_features = scaler.transform(train.drop(['Survived'],axis=1))\n",
    "train_scaled = pd.DataFrame(scaled_features) \n",
    "\n",
    "# transform test\n",
    "scaled_features = scaler.transform(test)\n",
    "test_scaled = pd.DataFrame(scaled_features)"
   ]
  },
  {
   "cell_type": "code",
   "execution_count": null,
   "metadata": {},
   "outputs": [],
   "source": []
  }
 ],
 "metadata": {
  "kernelspec": {
   "display_name": "Python 3",
   "language": "python",
   "name": "python3"
  },
  "language_info": {
   "codemirror_mode": {
    "name": "ipython",
    "version": 3
   },
   "file_extension": ".py",
   "mimetype": "text/x-python",
   "name": "python",
   "nbconvert_exporter": "python",
   "pygments_lexer": "ipython3",
   "version": "3.7.4"
  }
 },
 "nbformat": 4,
 "nbformat_minor": 4
}
