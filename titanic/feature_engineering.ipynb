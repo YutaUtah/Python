{
 "cells": [
  {
   "cell_type": "markdown",
   "metadata": {},
   "source": [
    "# Feature Engineering and Data Processing "
   ]
  },
  {
   "cell_type": "markdown",
   "metadata": {},
   "source": [
    "##### we have created the following columns\n",
    "\n",
    "- family_size\n",
    "- age_band\n",
    "- is_small_family\n",
    "- is_large_family\n",
    "- Fare_cat\n",
    "- ticket_len\n",
    "- ticket_letter\n",
    "- cabin_letter\n",
    "\n",
    "#### we have imputed the following columns \n",
    "\n",
    "- Cabin\n",
    "- Embarked"
   ]
  },
  {
   "cell_type": "code",
   "execution_count": 198,
   "metadata": {},
   "outputs": [],
   "source": [
    "# import packages\n",
    "\n",
    "import pandas as pd \n",
    "import numpy as np\n",
    "import matplotlib.pyplot as plt\n",
    "import seaborn as sns\n",
    "\n",
    "%matplotlib inline \n",
    "sns.set()"
   ]
  },
  {
   "cell_type": "code",
   "execution_count": 199,
   "metadata": {},
   "outputs": [],
   "source": [
    "train = pd.read_csv(\"./data/train.csv\")\n",
    "test = pd.read_csv(\"./data/test.csv\")"
   ]
  },
  {
   "cell_type": "code",
   "execution_count": 200,
   "metadata": {},
   "outputs": [
    {
     "name": "stdout",
     "output_type": "stream",
     "text": [
      "(891, 12)\n",
      "(418, 11)\n"
     ]
    }
   ],
   "source": [
    "print(train.shape)\n",
    "print(test.shape)"
   ]
  },
  {
   "cell_type": "markdown",
   "metadata": {},
   "source": [
    "### create family_size and is_alone column\n",
    "\n",
    "- sibsp + parch + themselves"
   ]
  },
  {
   "cell_type": "code",
   "execution_count": 201,
   "metadata": {},
   "outputs": [],
   "source": [
    "train['family_size'] = train['SibSp'] + train['Parch'] + 1\n",
    "test['family_size'] = test['SibSp'] + test['Parch'] + 1\n",
    "\n",
    "for data in [train, test]:\n",
    "    data['is_alone'] =0\n",
    "    data.loc[(data['family_size'] == 1), 'is_alone'] = 1"
   ]
  },
  {
   "cell_type": "code",
   "execution_count": 202,
   "metadata": {},
   "outputs": [],
   "source": [
    "# create age_band, missing age data is fallen in age_band == 0\n",
    "for data in [train, test]:\n",
    "    data['age_band'] =0\n",
    "    data.loc[data['Age'] <= 16,'age_band'] = 0\n",
    "    data.loc[(data['Age'] > 16) & (data['Age'] <= 32), 'age_band'] = 1\n",
    "    data.loc[(data['Age'] > 32) & (data['Age'] <= 48), 'age_band'] = 2\n",
    "    data.loc[(data['Age'] > 48) & (data['Age'] <= 64), 'age_band'] = 3\n",
    "    data.loc[(data['Age'] > 64), 'age_band'] = 3"
   ]
  },
  {
   "cell_type": "code",
   "execution_count": 203,
   "metadata": {},
   "outputs": [
    {
     "data": {
      "image/png": "[encoded data removed]",
      "text/plain": [
       "<Figure size 720x360 with 2 Axes>"
      ]
     },
     "metadata": {},
     "output_type": "display_data"
    }
   ],
   "source": [
    "sns.catplot(x='age_band',y='Survived',data=train,col='Sex', kind=\"bar\", palette=\"Set2\")\n",
    "plt.show()"
   ]
  },
  {
   "cell_type": "code",
   "execution_count": 204,
   "metadata": {},
   "outputs": [],
   "source": [
    "# create is_small_family and is_large_family variables\n",
    "\n",
    "for data in [train, test]:\n",
    "    data['is_small_family'] = data['family_size'].map(lambda s: 1 if 2 <= s <= 4 else 0)\n",
    "    data['is_large_family'] = data['family_size'].map(lambda s: 1 if 5 <= s else 0)"
   ]
  },
  {
   "cell_type": "code",
   "execution_count": 205,
   "metadata": {},
   "outputs": [],
   "source": [
    "# create fare_category\n",
    "for data in [train, test]:\n",
    "    data['Fare_cat']=0\n",
    "    data.loc[data['Fare'] <= 7.91,'Fare_cat'] = 0\n",
    "    data.loc[(data['Fare']>7.91) & (data['Fare'] <= 14.454),'Fare_cat'] = 1\n",
    "    data.loc[(data['Fare'] > 14.454) & (data['Fare'] <= 31),'Fare_cat'] = 2\n",
    "    data.loc[(data['Fare'] > 31) & (data['Fare'] <= 513),'Fare_cat'] = 3"
   ]
  },
  {
   "cell_type": "code",
   "execution_count": 206,
   "metadata": {},
   "outputs": [],
   "source": [
    "# create ticket_length and ticket_first_letter\n",
    "for data in [train, test]:\n",
    "    data['ticket_len'] = data['Ticket'].apply(len)  \n",
    "    data['ticket_letter'] = data['Ticket'].str[0]"
   ]
  },
  {
   "cell_type": "code",
   "execution_count": 207,
   "metadata": {},
   "outputs": [
    {
     "data": {
      "text/html": [
       "<div>\n",
       "<style scoped>\n",
       "    .dataframe tbody tr th:only-of-type {\n",
       "        vertical-align: middle;\n",
       "    }\n",
       "\n",
       "    .dataframe tbody tr th {\n",
       "        vertical-align: top;\n",
       "    }\n",
       "\n",
       "    .dataframe thead th {\n",
       "        text-align: right;\n",
       "    }\n",
       "</style>\n",
       "<table border=\"1\" class=\"dataframe\">\n",
       "  <thead>\n",
       "    <tr style=\"text-align: right;\">\n",
       "      <th></th>\n",
       "      <th>ticket_len</th>\n",
       "      <th>Survived</th>\n",
       "    </tr>\n",
       "  </thead>\n",
       "  <tbody>\n",
       "    <tr>\n",
       "      <td>2</td>\n",
       "      <td>5</td>\n",
       "      <td>0.618321</td>\n",
       "    </tr>\n",
       "    <tr>\n",
       "      <td>5</td>\n",
       "      <td>8</td>\n",
       "      <td>0.539474</td>\n",
       "    </tr>\n",
       "    <tr>\n",
       "      <td>13</td>\n",
       "      <td>17</td>\n",
       "      <td>0.428571</td>\n",
       "    </tr>\n",
       "    <tr>\n",
       "      <td>9</td>\n",
       "      <td>12</td>\n",
       "      <td>0.400000</td>\n",
       "    </tr>\n",
       "    <tr>\n",
       "      <td>10</td>\n",
       "      <td>13</td>\n",
       "      <td>0.400000</td>\n",
       "    </tr>\n",
       "    <tr>\n",
       "      <td>1</td>\n",
       "      <td>4</td>\n",
       "      <td>0.366337</td>\n",
       "    </tr>\n",
       "    <tr>\n",
       "      <td>7</td>\n",
       "      <td>10</td>\n",
       "      <td>0.341463</td>\n",
       "    </tr>\n",
       "    <tr>\n",
       "      <td>11</td>\n",
       "      <td>15</td>\n",
       "      <td>0.333333</td>\n",
       "    </tr>\n",
       "    <tr>\n",
       "      <td>3</td>\n",
       "      <td>6</td>\n",
       "      <td>0.319809</td>\n",
       "    </tr>\n",
       "    <tr>\n",
       "      <td>4</td>\n",
       "      <td>7</td>\n",
       "      <td>0.296296</td>\n",
       "    </tr>\n",
       "    <tr>\n",
       "      <td>12</td>\n",
       "      <td>16</td>\n",
       "      <td>0.272727</td>\n",
       "    </tr>\n",
       "    <tr>\n",
       "      <td>8</td>\n",
       "      <td>11</td>\n",
       "      <td>0.250000</td>\n",
       "    </tr>\n",
       "    <tr>\n",
       "      <td>6</td>\n",
       "      <td>9</td>\n",
       "      <td>0.192308</td>\n",
       "    </tr>\n",
       "    <tr>\n",
       "      <td>0</td>\n",
       "      <td>3</td>\n",
       "      <td>0.000000</td>\n",
       "    </tr>\n",
       "    <tr>\n",
       "      <td>14</td>\n",
       "      <td>18</td>\n",
       "      <td>0.000000</td>\n",
       "    </tr>\n",
       "  </tbody>\n",
       "</table>\n",
       "</div>"
      ],
      "text/plain": [
       "    ticket_len  Survived\n",
       "2            5  0.618321\n",
       "5            8  0.539474\n",
       "13          17  0.428571\n",
       "9           12  0.400000\n",
       "10          13  0.400000\n",
       "1            4  0.366337\n",
       "7           10  0.341463\n",
       "11          15  0.333333\n",
       "3            6  0.319809\n",
       "4            7  0.296296\n",
       "12          16  0.272727\n",
       "8           11  0.250000\n",
       "6            9  0.192308\n",
       "0            3  0.000000\n",
       "14          18  0.000000"
      ]
     },
     "execution_count": 207,
     "metadata": {},
     "output_type": "execute_result"
    }
   ],
   "source": [
    "# create the chart of ticket relation\n",
    "ticket_len = train[['ticket_len', 'Survived']].groupby(['ticket_len'], as_index=False).mean().sort_values(by='Survived', ascending=False)\n",
    "ticket_letter = train[['ticket_letter', 'Survived']].groupby(['ticket_letter'], as_index=False).mean().sort_values(by='Survived', ascending=False)\n",
    "ticket_len"
   ]
  },
  {
   "cell_type": "code",
   "execution_count": 208,
   "metadata": {},
   "outputs": [
    {
     "data": {
      "text/plain": [
       "<seaborn.axisgrid.FacetGrid at 0x1a1e0aae50>"
      ]
     },
     "execution_count": 208,
     "metadata": {},
     "output_type": "execute_result"
    },
    {
     "data": {
      "image/png": "[encoded data removed]",
      "text/plain": [
       "<Figure size 360x360 with 1 Axes>"
      ]
     },
     "metadata": {},
     "output_type": "display_data"
    },
    {
     "data": {
      "image/png": "[encoded data removed]",
      "text/plain": [
       "<Figure size 360x360 with 1 Axes>"
      ]
     },
     "metadata": {},
     "output_type": "display_data"
    }
   ],
   "source": [
    "sns.catplot(x='ticket_len', y=\"Survived\", data=train , kind=\"bar\", order=ticket_len['ticket_len'])\n",
    "sns.catplot(x='ticket_letter', y=\"Survived\", data=train, kind=\"bar\", order=ticket_letter['ticket_letter'])"
   ]
  },
  {
   "cell_type": "code",
   "execution_count": 209,
   "metadata": {},
   "outputs": [
    {
     "name": "stdout",
     "output_type": "stream",
     "text": [
      "3    429\n",
      "2    278\n",
      "1    210\n",
      "P     98\n",
      "S     98\n",
      "C     77\n",
      "A     42\n",
      "W     19\n",
      "7     13\n",
      "F     13\n",
      "4     11\n",
      "6      9\n",
      "L      5\n",
      "5      3\n",
      "9      2\n",
      "8      2\n",
      "Name: ticket_letter, dtype: int64\n"
     ]
    }
   ],
   "source": [
    "all_df = pd.concat([train, test],sort = True)\n",
    "#Displaying values counts\n",
    "print(all_df['ticket_letter'].value_counts())"
   ]
  },
  {
   "cell_type": "markdown",
   "metadata": {},
   "source": [
    "regarding W, 7, F, 4, 6, L, 5, 9, 8 they are rare letters, so we pass the label rare"
   ]
  },
  {
   "cell_type": "code",
   "execution_count": 210,
   "metadata": {},
   "outputs": [],
   "source": [
    "# replace the entries Rare_Low_Survival and Rare_high_Survival\n",
    "for data in [train, test]:\n",
    "    data['ticket_letter'] = data['ticket_letter'].replace(['W', '4', '7', '6', 'L', '5', '8'], 'Rare_Low_Survival')\n",
    "    data['ticket_letter'] = data['ticket_letter'].replace(['F', '9'], 'Rare_High_Survival')"
   ]
  },
  {
   "cell_type": "code",
   "execution_count": 211,
   "metadata": {},
   "outputs": [],
   "source": [
    "# impute NO to missing data and add cabin_letter column \n",
    "\n",
    "for data in [train, test]:\n",
    "  #Filling missing values\n",
    "  data['Cabin'] = data['Cabin'].fillna('N0')\n",
    "  #Getting the first letter of the column\n",
    "  data['cabin_letter'] = data['Cabin'].str[0]\n",
    "\n",
    "# we not have T at test data so we replace it \n",
    "train['cabin_letter'] = train['cabin_letter'].replace(['T'], 'N')"
   ]
  },
  {
   "cell_type": "code",
   "execution_count": 212,
   "metadata": {},
   "outputs": [],
   "source": [
    "# impute Embarked \n",
    "train['Embarked'] = train['Embarked'].fillna(train['Embarked'].mode().iloc[0])\n",
    "test['Embarked'] = test['Embarked'].fillna(test['Embarked'].mode().iloc[0])"
   ]
  },
  {
   "cell_type": "markdown",
   "metadata": {},
   "source": [
    "# encoding / drop the columns\n",
    "- what is the best encoding in this dataset? / encode all categorical variables thats stored as integers\n",
    "- which columns contribute to survival percentage"
   ]
  },
  {
   "cell_type": "code",
   "execution_count": 213,
   "metadata": {},
   "outputs": [],
   "source": [
    "#removing all columns that we don't need\n",
    "train.drop(['PassengerId','Name','Ticket', 'Cabin','Fare','Age','SibSp','Parch'],axis=1,inplace=True)\n",
    "test.drop(['PassengerId','Name','Ticket', 'Cabin','Fare','Age','SibSp','Parch'],axis=1,inplace=True)"
   ]
  },
  {
   "cell_type": "code",
   "execution_count": 214,
   "metadata": {},
   "outputs": [],
   "source": [
    "\n",
    "#handling categorical variables\n",
    "train = pd.get_dummies(train, columns=['Sex','Embarked', 'Pclass','ticket_letter','cabin_letter', 'Fare_cat','is_small_family','is_large_family'], drop_first=True)\n",
    "test = pd.get_dummies(test, columns=['Sex','Embarked', 'Pclass','ticket_letter','cabin_letter', 'Fare_cat','is_small_family','is_large_family'], drop_first=True)\n"
   ]
  },
  {
   "cell_type": "markdown",
   "metadata": {},
   "source": [
    "# standardization \n",
    "- standardize the data with train data frame and apply it to both tran and test data"
   ]
  },
  {
   "cell_type": "code",
   "execution_count": 218,
   "metadata": {},
   "outputs": [],
   "source": [
    "from sklearn.preprocessing import StandardScaler\n",
    "scaler = StandardScaler()\n",
    "\n",
    "# drop response variable and fit\n",
    "scaler.fit(train.drop(['Survived'],axis=1))\n",
    "\n",
    "# transform train\n",
    "scaled_features = scaler.transform(train.drop(['Survived'],axis=1))\n",
    "train_scaled = pd.DataFrame(scaled_features) \n",
    "\n",
    "# transform test\n",
    "scaled_features = scaler.transform(test)\n",
    "test_scaled = pd.DataFrame(scaled_features)\n",
    "\n"
   ]
  },
  {
   "cell_type": "code",
   "execution_count": 219,
   "metadata": {},
   "outputs": [],
   "source": [
    "# train_scaled.to_csv('./data/train_scaled.csv')\n",
    "# test_scaled.to_csv('./data/test_scaled.csv')"
   ]
  },
  {
   "cell_type": "markdown",
   "metadata": {},
   "source": [
    "split train data into explanatory and response variabless\n",
    "\n",
    "as test data frame dose not already have Survived, just store\n",
    "\n",
    "split scaled data to explanatroy and response and store test scaled data frame"
   ]
  },
  {
   "cell_type": "code",
   "execution_count": 223,
   "metadata": {},
   "outputs": [],
   "source": [
    "X = train.drop('Survived', axis = 1)\n",
    "y = train['Survived']\n",
    "X_test = test\n",
    "\n",
    "X_scaled = train_scaled\n",
    "y_scaled = train['Survived']\n",
    "X_test_scaled = test_scaled"
   ]
  },
  {
   "cell_type": "code",
   "execution_count": 229,
   "metadata": {},
   "outputs": [],
   "source": [
    "# import the sklearn modules\n",
    "from sklearn.neighbors import KNeighborsClassifier\n",
    "from sklearn.ensemble import RandomForestClassifier\n",
    "from sklearn.svm import SVC\n",
    "from sklearn import tree\n",
    "from sklearn.model_selection import train_test_split\n",
    "from sklearn import model_selection\n",
    "from sklearn.metrics import accuracy_score\n"
   ]
  },
  {
   "cell_type": "code",
   "execution_count": 230,
   "metadata": {},
   "outputs": [],
   "source": [
    "from sklearn.model_selection import cross_val_score\n",
    "\n",
    "cross_validation_split = model_selection.ShuffleSplit(n_splits = 10, test_size = 0.3, train_size = 0.6, random_state = 0)"
   ]
  },
  {
   "cell_type": "markdown",
   "metadata": {},
   "source": [
    "## Support Vector Machine "
   ]
  },
  {
   "cell_type": "markdown",
   "metadata": {},
   "source": [
    "##### non-scaled"
   ]
  },
  {
   "cell_type": "code",
   "execution_count": 235,
   "metadata": {},
   "outputs": [
    {
     "name": "stdout",
     "output_type": "stream",
     "text": [
      "*************10 times each*************\n",
      "[0.81716418 0.80970149 0.84328358 0.81343284 0.82089552 0.80223881\n",
      " 0.80223881 0.80597015 0.82462687 0.8619403 ]\n",
      "****************average****************\n",
      "0.8201492537313433\n"
     ]
    }
   ],
   "source": [
    "svc = SVC(gamma = 0.01, C = 100)\n",
    "scores_svc = cross_val_score(svc, X, y, cv=cross_validation_split, scoring='accuracy')\n",
    "print('*************10 times each*************')\n",
    "print(scores_svc)\n",
    "print('****************average****************')\n",
    "print(scores_svc.mean())"
   ]
  },
  {
   "cell_type": "markdown",
   "metadata": {},
   "source": [
    "##### scaled"
   ]
  },
  {
   "cell_type": "code",
   "execution_count": 236,
   "metadata": {},
   "outputs": [
    {
     "name": "stdout",
     "output_type": "stream",
     "text": [
      "*************10 times each*************\n",
      "[0.7761194  0.79477612 0.77985075 0.81343284 0.83208955 0.80223881\n",
      " 0.80597015 0.80970149 0.81343284 0.85447761]\n",
      "****************average****************\n",
      "0.8082089552238806\n"
     ]
    }
   ],
   "source": [
    "svc = SVC(gamma = 0.01, C = 100)\n",
    "scores_svc_sc = cross_val_score(svc, X_scaled, y_scaled, cv=cross_validation_split, scoring='accuracy')\n",
    "print('*************10 times each*************')\n",
    "print(scores_svc_sc)\n",
    "print('****************average****************')\n",
    "print(scores_svc_sc.mean())"
   ]
  },
  {
   "cell_type": "markdown",
   "metadata": {},
   "source": [
    "## Random Forest"
   ]
  },
  {
   "cell_type": "code",
   "execution_count": 237,
   "metadata": {},
   "outputs": [
    {
     "name": "stderr",
     "output_type": "stream",
     "text": [
      "/opt/anaconda3/lib/python3.7/site-packages/sklearn/ensemble/forest.py:245: FutureWarning: The default value of n_estimators will change from 10 in version 0.20 to 100 in 0.22.\n",
      "  \"10 in version 0.20 to 100 in 0.22.\", FutureWarning)\n",
      "/opt/anaconda3/lib/python3.7/site-packages/sklearn/ensemble/forest.py:245: FutureWarning: The default value of n_estimators will change from 10 in version 0.20 to 100 in 0.22.\n",
      "  \"10 in version 0.20 to 100 in 0.22.\", FutureWarning)\n",
      "/opt/anaconda3/lib/python3.7/site-packages/sklearn/ensemble/forest.py:245: FutureWarning: The default value of n_estimators will change from 10 in version 0.20 to 100 in 0.22.\n",
      "  \"10 in version 0.20 to 100 in 0.22.\", FutureWarning)\n",
      "/opt/anaconda3/lib/python3.7/site-packages/sklearn/ensemble/forest.py:245: FutureWarning: The default value of n_estimators will change from 10 in version 0.20 to 100 in 0.22.\n",
      "  \"10 in version 0.20 to 100 in 0.22.\", FutureWarning)\n",
      "/opt/anaconda3/lib/python3.7/site-packages/sklearn/ensemble/forest.py:245: FutureWarning: The default value of n_estimators will change from 10 in version 0.20 to 100 in 0.22.\n",
      "  \"10 in version 0.20 to 100 in 0.22.\", FutureWarning)\n",
      "/opt/anaconda3/lib/python3.7/site-packages/sklearn/ensemble/forest.py:245: FutureWarning: The default value of n_estimators will change from 10 in version 0.20 to 100 in 0.22.\n",
      "  \"10 in version 0.20 to 100 in 0.22.\", FutureWarning)\n",
      "/opt/anaconda3/lib/python3.7/site-packages/sklearn/ensemble/forest.py:245: FutureWarning: The default value of n_estimators will change from 10 in version 0.20 to 100 in 0.22.\n",
      "  \"10 in version 0.20 to 100 in 0.22.\", FutureWarning)\n",
      "/opt/anaconda3/lib/python3.7/site-packages/sklearn/ensemble/forest.py:245: FutureWarning: The default value of n_estimators will change from 10 in version 0.20 to 100 in 0.22.\n",
      "  \"10 in version 0.20 to 100 in 0.22.\", FutureWarning)\n",
      "/opt/anaconda3/lib/python3.7/site-packages/sklearn/ensemble/forest.py:245: FutureWarning: The default value of n_estimators will change from 10 in version 0.20 to 100 in 0.22.\n",
      "  \"10 in version 0.20 to 100 in 0.22.\", FutureWarning)\n",
      "/opt/anaconda3/lib/python3.7/site-packages/sklearn/ensemble/forest.py:245: FutureWarning: The default value of n_estimators will change from 10 in version 0.20 to 100 in 0.22.\n",
      "  \"10 in version 0.20 to 100 in 0.22.\", FutureWarning)\n"
     ]
    },
    {
     "name": "stdout",
     "output_type": "stream",
     "text": [
      "*************10 times each*************\n",
      "[0.80970149 0.81343284 0.80597015 0.79850746 0.83208955 0.79477612\n",
      " 0.80597015 0.80597015 0.81716418 0.82835821]\n",
      "****************average****************\n",
      "0.8111940298507463\n"
     ]
    }
   ],
   "source": [
    "rfc = RandomForestClassifier(max_depth=5, max_features=6)\n",
    "scores_rfc = cross_val_score(rfc, X, y, cv=cross_validation_split, scoring='accuracy')\n",
    "print('*************10 times each*************')\n",
    "print(scores_rfc)\n",
    "print('****************average****************')\n",
    "print(scores_rfc.mean())"
   ]
  },
  {
   "cell_type": "code",
   "execution_count": null,
   "metadata": {},
   "outputs": [],
   "source": []
  }
 ],
 "metadata": {
  "kernelspec": {
   "display_name": "Python 3",
   "language": "python",
   "name": "python3"
  },
  "language_info": {
   "codemirror_mode": {
    "name": "ipython",
    "version": 3
   },
   "file_extension": ".py",
   "mimetype": "text/x-python",
   "name": "python",
   "nbconvert_exporter": "python",
   "pygments_lexer": "ipython3",
   "version": "3.7.4"
  }
 },
 "nbformat": 4,
 "nbformat_minor": 4
}
